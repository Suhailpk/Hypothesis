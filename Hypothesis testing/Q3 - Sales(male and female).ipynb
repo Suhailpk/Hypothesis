{
 "cells": [
  {
   "cell_type": "markdown",
   "id": "c76e55aa",
   "metadata": {},
   "source": [
    "## Import necessary libaries"
   ]
  },
  {
   "cell_type": "code",
   "execution_count": 1,
   "id": "8cf9995e",
   "metadata": {},
   "outputs": [],
   "source": [
    "import pandas as pd\n",
    "import seaborn as sns\n",
    "import matplotlib.pyplot as plt\n",
    "import warnings\n",
    "warnings.filterwarnings('ignore')\n",
    "from scipy import stats"
   ]
  },
  {
   "cell_type": "markdown",
   "id": "79b41032",
   "metadata": {},
   "source": [
    "## Import the data"
   ]
  },
  {
   "cell_type": "code",
   "execution_count": 2,
   "id": "aa4a6853",
   "metadata": {},
   "outputs": [
    {
     "data": {
      "text/html": [
       "<div>\n",
       "<style scoped>\n",
       "    .dataframe tbody tr th:only-of-type {\n",
       "        vertical-align: middle;\n",
       "    }\n",
       "\n",
       "    .dataframe tbody tr th {\n",
       "        vertical-align: top;\n",
       "    }\n",
       "\n",
       "    .dataframe thead th {\n",
       "        text-align: right;\n",
       "    }\n",
       "</style>\n",
       "<table border=\"1\" class=\"dataframe\">\n",
       "  <thead>\n",
       "    <tr style=\"text-align: right;\">\n",
       "      <th></th>\n",
       "      <th>Observed Values</th>\n",
       "      <th>East</th>\n",
       "      <th>West</th>\n",
       "      <th>North</th>\n",
       "      <th>South</th>\n",
       "    </tr>\n",
       "  </thead>\n",
       "  <tbody>\n",
       "    <tr>\n",
       "      <th>0</th>\n",
       "      <td>Males</td>\n",
       "      <td>50</td>\n",
       "      <td>142</td>\n",
       "      <td>131</td>\n",
       "      <td>70</td>\n",
       "    </tr>\n",
       "    <tr>\n",
       "      <th>1</th>\n",
       "      <td>Females</td>\n",
       "      <td>435</td>\n",
       "      <td>1523</td>\n",
       "      <td>1356</td>\n",
       "      <td>750</td>\n",
       "    </tr>\n",
       "  </tbody>\n",
       "</table>\n",
       "</div>"
      ],
      "text/plain": [
       "  Observed Values  East  West  North  South\n",
       "0           Males    50   142    131     70\n",
       "1         Females   435  1523   1356    750"
      ]
     },
     "execution_count": 2,
     "metadata": {},
     "output_type": "execute_result"
    }
   ],
   "source": [
    "ratio = pd.read_csv('BuyerRatio.csv')\n",
    "ratio"
   ]
  },
  {
   "cell_type": "code",
   "execution_count": 4,
   "id": "838ec1a3",
   "metadata": {},
   "outputs": [
    {
     "data": {
      "text/plain": [
       "East     242.5\n",
       "West     832.5\n",
       "North    743.5\n",
       "South    410.0\n",
       "dtype: float64"
      ]
     },
     "execution_count": 4,
     "metadata": {},
     "output_type": "execute_result"
    }
   ],
   "source": [
    "ratio.mean()"
   ]
  },
  {
   "cell_type": "code",
   "execution_count": 7,
   "id": "8aa25e73",
   "metadata": {},
   "outputs": [
    {
     "data": {
      "image/png": "[encoded data removed]",
      "text/plain": [
       "<Figure size 432x288 with 1 Axes>"
      ]
     },
     "metadata": {
      "needs_background": "light"
     },
     "output_type": "display_data"
    }
   ],
   "source": [
    "sns.distplot(ratio['East'],hist = False)\n",
    "sns.distplot(ratio['West'],hist = False)\n",
    "sns.distplot(ratio['North'],hist = False)\n",
    "sns.distplot(ratio['South'],hist = False)\n",
    "plt.legend(['East','West','North','South'])\n",
    "plt.show()"
   ]
  },
  {
   "cell_type": "code",
   "execution_count": 8,
   "id": "4ea995e6",
   "metadata": {},
   "outputs": [
    {
     "data": {
      "text/plain": [
       "[[50, 142, 131, 70], [435, 1523, 1356, 750]]"
      ]
     },
     "execution_count": 8,
     "metadata": {},
     "output_type": "execute_result"
    }
   ],
   "source": [
    "sales = [[50,142,131,70],[435,1523,1356,750]]\n",
    "sales"
   ]
  },
  {
   "cell_type": "code",
   "execution_count": 9,
   "id": "b76c427a",
   "metadata": {},
   "outputs": [
    {
     "data": {
      "text/plain": [
       "(1.595945538661058,\n",
       " 0.6603094907091882,\n",
       " 3,\n",
       " array([[  42.76531299,  146.81287862,  131.11756787,   72.30424052],\n",
       "        [ 442.23468701, 1518.18712138, 1355.88243213,  747.69575948]]))"
      ]
     },
     "execution_count": 9,
     "metadata": {},
     "output_type": "execute_result"
    }
   ],
   "source": [
    "chi = stats.chi2_contingency(sales)\n",
    "chi"
   ]
  },
  {
   "cell_type": "code",
   "execution_count": 10,
   "id": "ec1bf26f",
   "metadata": {},
   "outputs": [
    {
     "data": {
      "text/plain": [
       "0.6603094907091882"
      ]
     },
     "execution_count": 10,
     "metadata": {},
     "output_type": "execute_result"
    }
   ],
   "source": [
    "pvalue = chi[1]\n",
    "pvalue"
   ]
  },
  {
   "cell_type": "markdown",
   "id": "309ab530",
   "metadata": {},
   "source": [
    "## Conclusion"
   ]
  },
  {
   "cell_type": "markdown",
   "id": "df30dd87",
   "metadata": {},
   "source": [
    "# we can't be rejected Null Hypothesis"
   ]
  },
  {
   "cell_type": "markdown",
   "id": "78ded2ef",
   "metadata": {},
   "source": [
    "## ============================ End ======================================"
   ]
  }
 ],
 "metadata": {
  "kernelspec": {
   "display_name": "Python 3",
   "language": "python",
   "name": "python3"
  },
  "language_info": {
   "codemirror_mode": {
    "name": "ipython",
    "version": 3
   },
   "file_extension": ".py",
   "mimetype": "text/x-python",
   "name": "python",
   "nbconvert_exporter": "python",
   "pygments_lexer": "ipython3",
   "version": "3.8.8"
  }
 },
 "nbformat": 4,
 "nbformat_minor": 5
}
